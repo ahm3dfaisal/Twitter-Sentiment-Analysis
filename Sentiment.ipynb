{
  "cells": [
    {
      "cell_type": "code",
      "execution_count": null,
      "metadata": {
        "id": "cJRdt-1qb6ib"
      },
      "outputs": [],
      "source": [
        "!pip install tweepy"
      ]
    },
    {
      "cell_type": "code",
      "execution_count": null,
      "metadata": {
        "id": "HfRUZi5wb7f3"
      },
      "outputs": [],
      "source": [
        "import re\n",
        "import tweepy, json\n",
        "import pandas as pd\n",
        "import matplotlib.pyplot as plt\n",
        "from tweepy import OAuthHandler\n",
        "from tweepy import Stream\n",
        "import csv\n",
        "\n",
        "# keys and tokens from the Twitter Dev Console\n",
        "consumer_key = '7sK9bZZFhR53gjdx3FlcCguN1'\n",
        "consumer_secret = 'HbDBpcmkIXFFNjXlCzx3BYFmrVqWUi5H6UIUibxw0IA6TdTWuq'\n",
        "access_token = '1332372658542022656-epFlmQUJ5WusDSMrjf7FZ2DBfb6qw9'\n",
        "access_token_secret = 'AFHiYSO5kLn7GTmQ7aDj8cS2tIOhOk9HPDUGYtmILDA0X'\n",
        "tweet_list = list()\n",
        "\n",
        "auth = tweepy.OAuthHandler(consumer_key, consumer_secret)\n",
        "auth.set_access_token(access_token, access_token_secret)\n",
        "api = api = tweepy.API(auth)"
      ]
    },
    {
      "cell_type": "code",
      "execution_count": null,
      "metadata": {
        "id": "mRxSEzf2sin0"
      },
      "outputs": [],
      "source": [
        "file = open('tweet.csv', 'a',encoding='utf-8')\n",
        "csvWriter = csv.writer(file)\n",
        "for tweet in tweepy.Cursor(api.search, q=\"foodprice\",lang=\"en\", count = 20000).items():\n",
        "    if tweet.lang == \"en\" and tweet.user.location ==\"Malaysia\" or \"malaysia\" or \"Singapore\" or \"singapore\":\n",
        "      csvWriter.writerow([tweet.created_at, tweet.text])\n",
        "file.close()\n",
        "# tweets = tweepy.Cursor(api.search, q=[\"#PriceHike\", \"#risingprice\", '#expensivefood', '#priceIncrease'],lang=\"en\", count = 20000, since=\"2020-01-01\").items()"
      ]
    },
    {
      "cell_type": "code",
      "source": [
        "data = pd.read_csv(\"tweet.csv\", header = None, encoding='utf-8', names = ['Time', 'Tweets'])"
      ],
      "metadata": {
        "id": "lQbmvwmgwRXB"
      },
      "execution_count": null,
      "outputs": []
    },
    {
      "cell_type": "code",
      "source": [
        "#removing hashtags related to globalwarming\n",
        "def rem_hashtags(text):\n",
        "    processed_text = re.sub(r\"#globalwarming\", \"\", text)\n",
        "    processed_text = \" \".join(processed_text.split())\n",
        "    return processed_text\n",
        "\n",
        "data['Tweets'] = data['Tweets'].apply(lambda x:rem_hashtags(x))"
      ],
      "metadata": {
        "id": "DqzqUN9OtF3M"
      },
      "execution_count": null,
      "outputs": []
    },
    {
      "cell_type": "code",
      "source": [
        "#removing tagged users from the tweets\n",
        "def remove_users(text):\n",
        "    processed_text = re.sub(r'@\\w+ ?',\"\",text)\n",
        "    processed_text = \" \".join(processed_text.split())\n",
        "    return processed_text\n",
        "\n",
        "data['Tweets'] = data['Tweets'].apply(lambda x:remove_users(x))\n"
      ],
      "metadata": {
        "id": "DCe42OCauIuF"
      },
      "execution_count": null,
      "outputs": []
    },
    {
      "cell_type": "code",
      "source": [
        "#removing hyperlinks mentioned in the tweets\n",
        "def remove_links(text):\n",
        "    processed_text = re.sub(r\"(?:\\@|http?\\://|https?\\://|www)\\S+\", \"\", text)\n",
        "    processed_text = \" \".join(processed_text.split())\n",
        "    return processed_text\n",
        "\n",
        "data['Tweets'] = data['Tweets'].apply(lambda x:remove_links(x))\n"
      ],
      "metadata": {
        "id": "0pMshPNqwjsr"
      },
      "execution_count": null,
      "outputs": []
    },
    {
      "cell_type": "code",
      "source": [
        "#removing punctuations in the tweets\n",
        "def remove_punct(text):\n",
        "    punctuations = '!\"#$%&\\'()*+,-./:;<=>?@[\\\\]^_`{|}~'\n",
        "    text  = \"\".join([char for char in text if char not in punctuations])\n",
        "    text = re.sub('[0-9]+', '', text)\n",
        "    return text\n",
        "\n",
        "data['Tweets'] = data['Tweets'].apply(lambda x: remove_punct(x))\n"
      ],
      "metadata": {
        "id": "zCYupIyBwlF4"
      },
      "execution_count": null,
      "outputs": []
    },
    {
      "cell_type": "code",
      "source": [
        "#making all tweets lowercase\n",
        "def lowercase_word(text):\n",
        "    text  = \"\".join([char.lower() for char in text])\n",
        "    return text\n",
        "data['Tweets'] = data['Tweets'].apply(lambda x: lowercase_word(x))"
      ],
      "metadata": {
        "id": "blofEjwswmXq"
      },
      "execution_count": null,
      "outputs": []
    },
    {
      "cell_type": "code",
      "source": [
        "!pip istall textblob"
      ],
      "metadata": {
        "colab": {
          "base_uri": "https://localhost:8080/"
        },
        "id": "hVEWm_nqxIIC",
        "outputId": "29438676-f26e-4258-f2a1-d7b35297fd4e"
      },
      "execution_count": null,
      "outputs": [
        {
          "output_type": "stream",
          "name": "stdout",
          "text": [
            "ERROR: unknown command \"istall\" - maybe you meant \"install\"\n"
          ]
        }
      ]
    },
    {
      "cell_type": "code",
      "source": [
        "from textblob import TextBlob"
      ],
      "metadata": {
        "id": "pkgF0YO9xS63"
      },
      "execution_count": null,
      "outputs": []
    },
    {
      "cell_type": "code",
      "source": [
        "def get_tweet_sentiment(data):\n",
        "    if data > 0:\n",
        "        return 'positive'\n",
        "    elif data == 0:\n",
        "        return 'neutral'\n",
        "    else:\n",
        "        return 'negative'\n",
        "tweets = [TextBlob(tweet) for tweet in data['Tweets']]\n",
        "data['polarity'] = [b.sentiment.polarity for b in tweets]\n",
        "data['subjectivity'] = [b.sentiment.subjectivity for b in tweets]\n",
        "data['sentiment'] = data['polarity'].apply(get_tweet_sentiment)\n",
        "data['sentiment'].value_counts()"
      ],
      "metadata": {
        "colab": {
          "base_uri": "https://localhost:8080/"
        },
        "id": "UtZTs5_MwzQx",
        "outputId": "a2ef84ce-3a63-485c-85f3-8f22e8b7a784"
      },
      "execution_count": null,
      "outputs": [
        {
          "output_type": "execute_result",
          "data": {
            "text/plain": [
              "positive    69\n",
              "neutral     22\n",
              "negative    10\n",
              "Name: sentiment, dtype: int64"
            ]
          },
          "metadata": {},
          "execution_count": 57
        }
      ]
    },
    {
      "cell_type": "code",
      "source": [
        "data.head()"
      ],
      "metadata": {
        "colab": {
          "base_uri": "https://localhost:8080/",
          "height": 206
        },
        "id": "L3ozyG4mxgD7",
        "outputId": "4f207ac1-9a49-4388-c734-df3ea3fcb968"
      },
      "execution_count": null,
      "outputs": [
        {
          "output_type": "execute_result",
          "data": {
            "text/plain": [
              "                  Time                                             Tweets  \\\n",
              "0  2022-06-14 07:28:47  nstnation the best way to curb pricehike of fo...   \n",
              "1  2022-06-17 06:43:32  rt  he said canteen operators had to increase ...   \n",
              "2  2022-06-17 01:30:31  he said canteen operators had to increase food...   \n",
              "3  2022-06-16 11:52:18  the national bureau of statistics nbs has said...   \n",
              "4  2022-06-16 06:23:58  uk foodprice rises could hit  over summer  soa...   \n",
              "\n",
              "   polarity  subjectivity sentiment  \n",
              "0      1.00          0.30  positive  \n",
              "1     -0.30          0.40  negative  \n",
              "2     -0.30          0.40  negative  \n",
              "3      0.16          0.54  positive  \n",
              "4      0.00          1.00   neutral  "
            ],
            "text/html": [
              "\n",
              "  <div id=\"df-e0c229d9-d4aa-40d1-84fb-cc8d319ab292\">\n",
              "    <div class=\"colab-df-container\">\n",
              "      <div>\n",
              "<style scoped>\n",
              "    .dataframe tbody tr th:only-of-type {\n",
              "        vertical-align: middle;\n",
              "    }\n",
              "\n",
              "    .dataframe tbody tr th {\n",
              "        vertical-align: top;\n",
              "    }\n",
              "\n",
              "    .dataframe thead th {\n",
              "        text-align: right;\n",
              "    }\n",
              "</style>\n",
              "<table border=\"1\" class=\"dataframe\">\n",
              "  <thead>\n",
              "    <tr style=\"text-align: right;\">\n",
              "      <th></th>\n",
              "      <th>Time</th>\n",
              "      <th>Tweets</th>\n",
              "      <th>polarity</th>\n",
              "      <th>subjectivity</th>\n",
              "      <th>sentiment</th>\n",
              "    </tr>\n",
              "  </thead>\n",
              "  <tbody>\n",
              "    <tr>\n",
              "      <th>0</th>\n",
              "      <td>2022-06-14 07:28:47</td>\n",
              "      <td>nstnation the best way to curb pricehike of fo...</td>\n",
              "      <td>1.00</td>\n",
              "      <td>0.30</td>\n",
              "      <td>positive</td>\n",
              "    </tr>\n",
              "    <tr>\n",
              "      <th>1</th>\n",
              "      <td>2022-06-17 06:43:32</td>\n",
              "      <td>rt  he said canteen operators had to increase ...</td>\n",
              "      <td>-0.30</td>\n",
              "      <td>0.40</td>\n",
              "      <td>negative</td>\n",
              "    </tr>\n",
              "    <tr>\n",
              "      <th>2</th>\n",
              "      <td>2022-06-17 01:30:31</td>\n",
              "      <td>he said canteen operators had to increase food...</td>\n",
              "      <td>-0.30</td>\n",
              "      <td>0.40</td>\n",
              "      <td>negative</td>\n",
              "    </tr>\n",
              "    <tr>\n",
              "      <th>3</th>\n",
              "      <td>2022-06-16 11:52:18</td>\n",
              "      <td>the national bureau of statistics nbs has said...</td>\n",
              "      <td>0.16</td>\n",
              "      <td>0.54</td>\n",
              "      <td>positive</td>\n",
              "    </tr>\n",
              "    <tr>\n",
              "      <th>4</th>\n",
              "      <td>2022-06-16 06:23:58</td>\n",
              "      <td>uk foodprice rises could hit  over summer  soa...</td>\n",
              "      <td>0.00</td>\n",
              "      <td>1.00</td>\n",
              "      <td>neutral</td>\n",
              "    </tr>\n",
              "  </tbody>\n",
              "</table>\n",
              "</div>\n",
              "      <button class=\"colab-df-convert\" onclick=\"convertToInteractive('df-e0c229d9-d4aa-40d1-84fb-cc8d319ab292')\"\n",
              "              title=\"Convert this dataframe to an interactive table.\"\n",
              "              style=\"display:none;\">\n",
              "        \n",
              "  <svg xmlns=\"http://www.w3.org/2000/svg\" height=\"24px\"viewBox=\"0 0 24 24\"\n",
              "       width=\"24px\">\n",
              "    <path d=\"M0 0h24v24H0V0z\" fill=\"none\"/>\n",
              "    <path d=\"M18.56 5.44l.94 2.06.94-2.06 2.06-.94-2.06-.94-.94-2.06-.94 2.06-2.06.94zm-11 1L8.5 8.5l.94-2.06 2.06-.94-2.06-.94L8.5 2.5l-.94 2.06-2.06.94zm10 10l.94 2.06.94-2.06 2.06-.94-2.06-.94-.94-2.06-.94 2.06-2.06.94z\"/><path d=\"M17.41 7.96l-1.37-1.37c-.4-.4-.92-.59-1.43-.59-.52 0-1.04.2-1.43.59L10.3 9.45l-7.72 7.72c-.78.78-.78 2.05 0 2.83L4 21.41c.39.39.9.59 1.41.59.51 0 1.02-.2 1.41-.59l7.78-7.78 2.81-2.81c.8-.78.8-2.07 0-2.86zM5.41 20L4 18.59l7.72-7.72 1.47 1.35L5.41 20z\"/>\n",
              "  </svg>\n",
              "      </button>\n",
              "      \n",
              "  <style>\n",
              "    .colab-df-container {\n",
              "      display:flex;\n",
              "      flex-wrap:wrap;\n",
              "      gap: 12px;\n",
              "    }\n",
              "\n",
              "    .colab-df-convert {\n",
              "      background-color: #E8F0FE;\n",
              "      border: none;\n",
              "      border-radius: 50%;\n",
              "      cursor: pointer;\n",
              "      display: none;\n",
              "      fill: #1967D2;\n",
              "      height: 32px;\n",
              "      padding: 0 0 0 0;\n",
              "      width: 32px;\n",
              "    }\n",
              "\n",
              "    .colab-df-convert:hover {\n",
              "      background-color: #E2EBFA;\n",
              "      box-shadow: 0px 1px 2px rgba(60, 64, 67, 0.3), 0px 1px 3px 1px rgba(60, 64, 67, 0.15);\n",
              "      fill: #174EA6;\n",
              "    }\n",
              "\n",
              "    [theme=dark] .colab-df-convert {\n",
              "      background-color: #3B4455;\n",
              "      fill: #D2E3FC;\n",
              "    }\n",
              "\n",
              "    [theme=dark] .colab-df-convert:hover {\n",
              "      background-color: #434B5C;\n",
              "      box-shadow: 0px 1px 3px 1px rgba(0, 0, 0, 0.15);\n",
              "      filter: drop-shadow(0px 1px 2px rgba(0, 0, 0, 0.3));\n",
              "      fill: #FFFFFF;\n",
              "    }\n",
              "  </style>\n",
              "\n",
              "      <script>\n",
              "        const buttonEl =\n",
              "          document.querySelector('#df-e0c229d9-d4aa-40d1-84fb-cc8d319ab292 button.colab-df-convert');\n",
              "        buttonEl.style.display =\n",
              "          google.colab.kernel.accessAllowed ? 'block' : 'none';\n",
              "\n",
              "        async function convertToInteractive(key) {\n",
              "          const element = document.querySelector('#df-e0c229d9-d4aa-40d1-84fb-cc8d319ab292');\n",
              "          const dataTable =\n",
              "            await google.colab.kernel.invokeFunction('convertToInteractive',\n",
              "                                                     [key], {});\n",
              "          if (!dataTable) return;\n",
              "\n",
              "          const docLinkHtml = 'Like what you see? Visit the ' +\n",
              "            '<a target=\"_blank\" href=https://colab.research.google.com/notebooks/data_table.ipynb>data table notebook</a>'\n",
              "            + ' to learn more about interactive tables.';\n",
              "          element.innerHTML = '';\n",
              "          dataTable['output_type'] = 'display_data';\n",
              "          await google.colab.output.renderOutput(dataTable, element);\n",
              "          const docLink = document.createElement('div');\n",
              "          docLink.innerHTML = docLinkHtml;\n",
              "          element.appendChild(docLink);\n",
              "        }\n",
              "      </script>\n",
              "    </div>\n",
              "  </div>\n",
              "  "
            ]
          },
          "metadata": {},
          "execution_count": 58
        }
      ]
    },
    {
      "cell_type": "code",
      "source": [
        "data.to_csv(\"result.csv\", index=False)"
      ],
      "metadata": {
        "id": "3JIygYdexiTh"
      },
      "execution_count": null,
      "outputs": []
    },
    {
      "cell_type": "code",
      "source": [],
      "metadata": {
        "id": "wlbBAqYkxhwy"
      },
      "execution_count": null,
      "outputs": []
    }
  ],
  "metadata": {
    "colab": {
      "provenance": []
    },
    "kernelspec": {
      "display_name": "Python 3",
      "name": "python3"
    },
    "language_info": {
      "name": "python"
    }
  },
  "nbformat": 4,
  "nbformat_minor": 0
}